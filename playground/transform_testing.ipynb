{
 "cells": [
  {
   "cell_type": "code",
   "execution_count": 202,
   "metadata": {},
   "outputs": [],
   "source": [
    "import ipywidgets as widgets\n",
    "import matplotlib.pyplot as plt\n",
    "from IPython.display import display\n",
    "import numpy as np\n",
    "\n",
    "from monai.transforms import *"
   ]
  },
  {
   "cell_type": "code",
   "execution_count": 203,
   "metadata": {},
   "outputs": [],
   "source": [
    "labs_3d = True\n",
    "if labs_3d:\n",
    "    file_num = 'P5'\n",
    "    image_path = f\"/data/vr_heart/datasets/3D_Lab_Abnormal_Heart/Abnormal_Heart/{file_num}/Dicom\"\n",
    "    label_path = f\"/data/vr_heart/datasets/3D_Lab_Abnormal_Heart/Abnormal_Heart/{file_num}/{file_num}_labels.nii.gz\"\n",
    "else:\n",
    "    file_num = '1081'\n",
    "    image_path = f\"/data/vr_heart/datasets/ImageCHD_dicom/dicoms/ct_{file_num}_image\"\n",
    "    label_path = f\"/data/vr_heart/datasets/ImageCHD_dicom/labels/ct_{file_num}_label.nii.gz\"\n",
    "original_image = Compose([LoadImage(image_only=True), EnsureChannelFirst(), Orientation(\"RAS\")])(image_path)\n",
    "original_label = LoadImage(image_only=True)(label_path)"
   ]
  },
  {
   "cell_type": "code",
   "execution_count": 204,
   "metadata": {},
   "outputs": [
    {
     "data": {
      "text/plain": [
       "(torch.Size([1, 512, 512, 317]), torch.Size([512, 512, 317]))"
      ]
     },
     "execution_count": 204,
     "metadata": {},
     "output_type": "execute_result"
    }
   ],
   "source": [
    "original_image.shape, original_label.shape"
   ]
  },
  {
   "cell_type": "code",
   "execution_count": 205,
   "metadata": {},
   "outputs": [],
   "source": [
    "image_transforms = Compose([\n",
    "    LoadImage(image_only=True),\n",
    "    EnsureChannelFirst(),\n",
    "    # AdjustContrast(gamma=1.45),\n",
    "    # Rand3DElastic(sigma_range=(5,7), magnitude_range=(100,200), prob=0.7, padding_mode=\"reflection\"),\n",
    "    Orientation(\"RAS\"),\n",
    "    NormalizeIntensity(),\n",
    "    # RandStdShiftIntensity(factors=0.5),\n",
    "    # RandGaussianNoise(prob=1, mean=0, std=0.5),\n",
    "    # RandGibbsNoise(prob=1, alpha=(0.8, 1)),\n",
    "    # RandRicianNoise(prob=1, std=0.5, mean=1),\n",
    "    RandKSpaceSpikeNoise(prob=1, intensity_range=(10, 12)),\n",
    "    EnsureType(),\n",
    "    ToTensor()\n",
    "])\n",
    "\n",
    "label_transforms = Compose([\n",
    "    LoadImage(image_only=True),\n",
    "    EnsureChannelFirst(),\n",
    "    # Rand3DElastic(sigma_range=(5,7), magnitude_range=(100,200), prob=0.7, padding_mode=\"reflection\"),\n",
    "    Orientation(\"RAS\"),\n",
    "    EnsureType(),\n",
    "    ToTensor()\n",
    "])"
   ]
  },
  {
   "cell_type": "code",
   "execution_count": 206,
   "metadata": {},
   "outputs": [],
   "source": [
    "transformed_image = image_transforms(image_path)\n",
    "transformed_label = label_transforms(label_path)"
   ]
  },
  {
   "cell_type": "code",
   "execution_count": 207,
   "metadata": {},
   "outputs": [
    {
     "name": "stdout",
     "output_type": "stream",
     "text": [
      "(512, 512, 317)\n",
      "(512, 512, 317)\n",
      "(512, 512, 317)\n",
      "6.922323\n",
      "-0.9277008\n"
     ]
    }
   ],
   "source": [
    "original_image_np = original_image[0].cpu().numpy()\n",
    "transformed_image_np = transformed_image[0].cpu().numpy()\n",
    "label_np = transformed_label[0].cpu().numpy()\n",
    "\n",
    "#sanity check for the shapes\n",
    "print(original_image_np.shape)\n",
    "print(transformed_image_np.shape)\n",
    "print(label_np.shape)\n",
    "\n",
    "print(max(transformed_image_np.flatten()))\n",
    "print(min(transformed_image_np.flatten()))"
   ]
  },
  {
   "cell_type": "code",
   "execution_count": 208,
   "metadata": {},
   "outputs": [
    {
     "data": {
      "application/vnd.jupyter.widget-view+json": {
       "model_id": "98f49ac9e7f14a36949957b86c3ac349",
       "version_major": 2,
       "version_minor": 0
      },
      "text/plain": [
       "VBox(children=(IntSlider(value=158, description='Sagittal Slice', max=316), IntSlider(value=256, description='…"
      ]
     },
     "metadata": {},
     "output_type": "display_data"
    },
    {
     "data": {
      "application/vnd.jupyter.widget-view+json": {
       "model_id": "58a391e8f3c94a8ca2e6465f9a1f006c",
       "version_major": 2,
       "version_minor": 0
      },
      "text/plain": [
       "Output()"
      ]
     },
     "metadata": {},
     "output_type": "display_data"
    }
   ],
   "source": [
    "import numpy as np\n",
    "import matplotlib.pyplot as plt\n",
    "import ipywidgets as widgets\n",
    "\n",
    "def visualize_slices_with_sliders(original, transformed, label):\n",
    "    views = ['Sagittal', 'Coronal', 'Axial']\n",
    "    \n",
    "    max_slices = [original.shape[2], original.shape[1], original.shape[0]]\n",
    "\n",
    "    sagittal_slider = widgets.IntSlider(min=0, max=max_slices[0]-1, step=1, value=original.shape[2]//2, description='Sagittal Slice')\n",
    "    coronal_slider = widgets.IntSlider(min=0, max=max_slices[1]-1, step=1, value=original.shape[1]//2, description='Coronal Slice')\n",
    "    axial_slider = widgets.IntSlider(min=0, max=max_slices[2]-1, step=1, value=original.shape[0]//2, description='Axial Slice')\n",
    "\n",
    "    def update_plot(sagittal_slice, coronal_slice, axial_slice):\n",
    "        fig, axes = plt.subplots(3, 3, figsize=(15, 15))\n",
    "        slice_nums = [sagittal_slice, coronal_slice, axial_slice]\n",
    "        \n",
    "        for i, (view, slice_num) in enumerate(zip(views, slice_nums)):\n",
    "            if view == 'Sagittal':\n",
    "                axes[i, 0].imshow(np.rot90(original[:, :, slice_num]), cmap='gray')\n",
    "                axes[i, 1].imshow(np.rot90(transformed[:, :, slice_num]), cmap='gray')\n",
    "                axes[i, 2].imshow(np.rot90(label[:, :, slice_num]))\n",
    "            elif view == 'Coronal':\n",
    "                axes[i, 0].imshow(np.rot90(original[:, slice_num, :]), cmap='gray')\n",
    "                axes[i, 1].imshow(np.rot90(transformed[:, slice_num, :]), cmap='gray')\n",
    "                axes[i, 2].imshow(np.rot90(label[:, slice_num, :]))\n",
    "            elif view == 'Axial':\n",
    "                axes[i, 0].imshow(np.rot90(original[slice_num, :, :]), cmap='gray')\n",
    "                axes[i, 1].imshow(np.rot90(transformed[slice_num, :, :]), cmap='gray')\n",
    "                axes[i, 2].imshow(np.rot90(label[slice_num, :, :]))\n",
    "\n",
    "            axes[i, 0].set_title(f'Original {view} View')\n",
    "            axes[i, 1].set_title(f'Transformed {view} View')\n",
    "            axes[i, 2].set_title(f'Label {view} View')\n",
    "            axes[i, 0].axis('off')\n",
    "            axes[i, 1].axis('off')\n",
    "            axes[i, 2].axis('off')\n",
    "\n",
    "        plt.tight_layout()\n",
    "        plt.show()\n",
    "\n",
    "    ui = widgets.VBox([sagittal_slider, coronal_slider, axial_slider])\n",
    "    out = widgets.interactive_output(update_plot, \n",
    "                                     {'sagittal_slice': sagittal_slider, \n",
    "                                      'coronal_slice': coronal_slider, \n",
    "                                      'axial_slice': axial_slider})\n",
    "    \n",
    "    display(ui, out)\n",
    "\n",
    "visualize_slices_with_sliders(original_image_np, transformed_image_np, label_np)\n"
   ]
  }
 ],
 "metadata": {
  "kernelspec": {
   "display_name": ".venv",
   "language": "python",
   "name": "python3"
  },
  "language_info": {
   "codemirror_mode": {
    "name": "ipython",
    "version": 3
   },
   "file_extension": ".py",
   "mimetype": "text/x-python",
   "name": "python",
   "nbconvert_exporter": "python",
   "pygments_lexer": "ipython3",
   "version": "3.10.12"
  }
 },
 "nbformat": 4,
 "nbformat_minor": 2
}
