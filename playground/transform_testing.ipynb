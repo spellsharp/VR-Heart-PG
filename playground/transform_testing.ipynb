{
 "cells": [
  {
   "cell_type": "code",
   "execution_count": 7,
   "metadata": {},
   "outputs": [],
   "source": [
    "import ipywidgets as widgets\n",
    "import matplotlib.pyplot as plt\n",
    "from IPython.display import display\n",
    "import numpy as np\n",
    "\n",
    "from monai.transforms import *"
   ]
  },
  {
   "cell_type": "code",
   "execution_count": 8,
   "metadata": {},
   "outputs": [],
   "source": [
    "image_path = \"/data/vr_heart/datasets/ImageCHD_dicom/dicoms/ct_1001_image\"\n",
    "label_path = \"/data/vr_heart/datasets/ImageCHD_dicom/labels/ct_1001_label.nii.gz\"\n",
    "original_image = LoadImage(image_only=True)(image_path)\n",
    "label = LoadImage(image_only=True)(label_path)"
   ]
  },
  {
   "cell_type": "code",
   "execution_count": 9,
   "metadata": {},
   "outputs": [],
   "source": [
    "transforms = Compose([\n",
    "    LoadImage(image_only=True),\n",
    "    EnsureType(),\n",
    "    AdjustContrast(gamma=1.75),\n",
    "    # Affine(shear_params=[0.1,0.1], mode=\"bilinear\", padding_mode=\"reflection\"),\n",
    "    Rand3DElastic(sigma_range=(5,7), magnitude_range=(50,150), prob=1, padding_mode=\"reflection\"),\n",
    "    NormalizeIntensity(),\n",
    "    RandFlip()\n",
    "])"
   ]
  },
  {
   "cell_type": "code",
   "execution_count": 10,
   "metadata": {},
   "outputs": [],
   "source": [
    "transformed_image = transforms(image_path)\n",
    "transformed_label = transforms(label_path)"
   ]
  },
  {
   "cell_type": "code",
   "execution_count": 11,
   "metadata": {},
   "outputs": [
    {
     "name": "stdout",
     "output_type": "stream",
     "text": [
      "(512, 512, 221)\n",
      "(512, 512, 221)\n",
      "torch.Size([512, 512, 221])\n",
      "14.019986\n",
      "-1.164882\n"
     ]
    }
   ],
   "source": [
    "original_image_np = original_image.cpu().numpy()\n",
    "transformed_image_np = transformed_image.cpu().numpy()\n",
    "label_np = transformed_label\n",
    "\n",
    "#sanity check for the shapes\n",
    "print(original_image_np.shape)\n",
    "print(transformed_image_np.shape)\n",
    "print(label_np.shape)\n",
    "\n",
    "print(max(transformed_image_np.flatten()))\n",
    "print(min(transformed_image_np.flatten()))"
   ]
  },
  {
   "cell_type": "code",
   "execution_count": 12,
   "metadata": {},
   "outputs": [
    {
     "data": {
      "application/vnd.jupyter.widget-view+json": {
       "model_id": "d79c7b76c78d47949cf566d27d8b7177",
       "version_major": 2,
       "version_minor": 0
      },
      "text/plain": [
       "VBox(children=(IntSlider(value=0, description='Sagittal Slice', max=220), IntSlider(value=0, description='Coro…"
      ]
     },
     "metadata": {},
     "output_type": "display_data"
    },
    {
     "data": {
      "application/vnd.jupyter.widget-view+json": {
       "model_id": "8ed8df50ff9047fd87ae10b57f69a44b",
       "version_major": 2,
       "version_minor": 0
      },
      "text/plain": [
       "Output()"
      ]
     },
     "metadata": {},
     "output_type": "display_data"
    }
   ],
   "source": [
    "import numpy as np\n",
    "import matplotlib.pyplot as plt\n",
    "import ipywidgets as widgets\n",
    "\n",
    "def visualize_slices_with_sliders(original, transformed, label):\n",
    "    views = ['Sagittal', 'Coronal', 'Axial']\n",
    "    \n",
    "    max_slices = [original.shape[2], original.shape[1], original.shape[0]]\n",
    "\n",
    "    sagittal_slider = widgets.IntSlider(min=0, max=max_slices[0]-1, step=1, description='Sagittal Slice')\n",
    "    coronal_slider = widgets.IntSlider(min=0, max=max_slices[1]-1, step=1, description='Coronal Slice')\n",
    "    axial_slider = widgets.IntSlider(min=0, max=max_slices[2]-1, step=1, description='Axial Slice')\n",
    "\n",
    "    def update_plot(sagittal_slice, coronal_slice, axial_slice):\n",
    "        fig, axes = plt.subplots(3, 3, figsize=(15, 15))\n",
    "        slice_nums = [sagittal_slice, coronal_slice, axial_slice]\n",
    "        \n",
    "        for i, (view, slice_num) in enumerate(zip(views, slice_nums)):\n",
    "            if view == 'Sagittal':\n",
    "                axes[i, 0].imshow(np.rot90(original[:, :, slice_num]), cmap='gray')\n",
    "                axes[i, 1].imshow(np.rot90(transformed[:, :, slice_num]), cmap='gray')\n",
    "                axes[i, 2].imshow(np.rot90(label[:, :, slice_num]))\n",
    "            elif view == 'Coronal':\n",
    "                axes[i, 0].imshow(np.rot90(original[:, slice_num, :]), cmap='gray')\n",
    "                axes[i, 1].imshow(np.rot90(transformed[:, slice_num, :]), cmap='gray')\n",
    "                axes[i, 2].imshow(np.rot90(label[:, slice_num, :]))\n",
    "            elif view == 'Axial':\n",
    "                axes[i, 0].imshow(np.rot90(original[slice_num, :, :]), cmap='gray')\n",
    "                axes[i, 1].imshow(np.rot90(transformed[slice_num, :, :]), cmap='gray')\n",
    "                axes[i, 2].imshow(np.rot90(label[slice_num, :, :]))\n",
    "\n",
    "            axes[i, 0].set_title(f'Original {view} View')\n",
    "            axes[i, 1].set_title(f'Transformed {view} View')\n",
    "            axes[i, 2].set_title(f'Label {view} View')\n",
    "            axes[i, 0].axis('off')\n",
    "            axes[i, 1].axis('off')\n",
    "            axes[i, 2].axis('off')\n",
    "\n",
    "        plt.tight_layout()\n",
    "        plt.show()\n",
    "\n",
    "    ui = widgets.VBox([sagittal_slider, coronal_slider, axial_slider])\n",
    "    out = widgets.interactive_output(update_plot, \n",
    "                                     {'sagittal_slice': sagittal_slider, \n",
    "                                      'coronal_slice': coronal_slider, \n",
    "                                      'axial_slice': axial_slider})\n",
    "    \n",
    "    display(ui, out)\n",
    "\n",
    "visualize_slices_with_sliders(original_image_np, transformed_image_np, label_np)\n"
   ]
  }
 ],
 "metadata": {
  "kernelspec": {
   "display_name": ".venv",
   "language": "python",
   "name": "python3"
  },
  "language_info": {
   "codemirror_mode": {
    "name": "ipython",
    "version": 3
   },
   "file_extension": ".py",
   "mimetype": "text/x-python",
   "name": "python",
   "nbconvert_exporter": "python",
   "pygments_lexer": "ipython3",
   "version": "3.10.12"
  }
 },
 "nbformat": 4,
 "nbformat_minor": 2
}
