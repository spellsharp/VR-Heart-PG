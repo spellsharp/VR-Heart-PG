{
 "cells": [
  {
   "cell_type": "code",
   "execution_count": 1,
   "metadata": {},
   "outputs": [],
   "source": [
    "import pydicom\n",
    "import nibabel as nib\n",
    "import SimpleITK as sitk\n",
    "import numpy as np\n",
    "import matplotlib.pyplot as plt\n",
    "import os"
   ]
  },
  {
   "cell_type": "markdown",
   "metadata": {},
   "source": [
    "### Getting the affine matrix"
   ]
  },
  {
   "cell_type": "code",
   "execution_count": 2,
   "metadata": {},
   "outputs": [],
   "source": [
    "patient = 'P5'\n",
    "image_dir = f'/data/vr_heart/datasets/3D_Lab_Abnormal_Heart/Abnormal_Heart/{patient}/Dicom'\n",
    "image_path = os.path.join(image_dir, os.listdir(image_dir)[0])\n",
    "label_path = f'/data/vr_heart/datasets/3D_Lab_Abnormal_Heart/Abnormal_Heart/{patient}/{patient}_labels.nii.gz'"
   ]
  },
  {
   "cell_type": "code",
   "execution_count": 3,
   "metadata": {},
   "outputs": [
    {
     "name": "stdout",
     "output_type": "stream",
     "text": [
      "[[  -0.41015601    0.            0.           94.08000183]\n",
      " [   0.           -0.41015601    0.          -75.19999695]\n",
      " [   0.            0.            0.5        -103.48999786]\n",
      " [   0.            0.            0.            1.        ]]\n"
     ]
    }
   ],
   "source": [
    "nifti_label = nib.load(label_path)\n",
    "label_affine = nifti_label.affine\n",
    "print(label_affine)"
   ]
  },
  {
   "cell_type": "markdown",
   "metadata": {},
   "source": [
    "The above affine matrix is not the actual affine matrix that represents the image. It is only the metadata. It may or may not be accurate.<br/>\n",
    "Moreover changing this .affine attribute won't actually change the actual affine matrix in anyway."
   ]
  },
  {
   "cell_type": "markdown",
   "metadata": {},
   "source": [
    "Extracting the affine matrix using SimpleITK"
   ]
  },
  {
   "cell_type": "code",
   "execution_count": 4,
   "metadata": {},
   "outputs": [
    {
     "name": "stdout",
     "output_type": "stream",
     "text": [
      "[[  0.410156   0.         0.       -94.08    ]\n",
      " [  0.         0.410156   0.        75.2     ]\n",
      " [  0.         0.         0.5      -40.49    ]\n",
      " [  0.         0.         0.         1.      ]]\n"
     ]
    }
   ],
   "source": [
    "def get_affine_matrix(image_file):\n",
    "    if not isinstance(image_file, str):\n",
    "        image = sitk.GetImageFromArray(image_file)\n",
    "    else:\n",
    "        image = sitk.ReadImage(image_file)\n",
    "    \n",
    "    direction = image.GetDirection()\n",
    "    spacing = image.GetSpacing()\n",
    "    origin = image.GetOrigin()\n",
    "\n",
    "    affine_matrix = np.array([[direction[0] * spacing[0], direction[3] * spacing[1], direction[6] * spacing[2], origin[0]],\n",
    "                    [direction[1] * spacing[0], direction[4] * spacing[1], direction[7] * spacing[2], origin[1]],\n",
    "                    [direction[2] * spacing[0], direction[5] * spacing[1], direction[8] * spacing[2], origin[2]],\n",
    "                    [0, 0, 0, 1]])\n",
    "    \n",
    "    return affine_matrix\n",
    "\n",
    "affine_matrix = get_affine_matrix(image_path)\n",
    "print(affine_matrix)"
   ]
  },
  {
   "cell_type": "code",
   "execution_count": 5,
   "metadata": {},
   "outputs": [
    {
     "data": {
      "text/plain": [
       "array([[  0.410156,   0.      ,   0.      , -94.08    ],\n",
       "       [  0.      ,   0.410156,   0.      ,  75.2     ],\n",
       "       [  0.      ,   0.      ,   0.5     , -40.49    ],\n",
       "       [  0.      ,   0.      ,   0.      ,   1.      ]])"
      ]
     },
     "execution_count": 5,
     "metadata": {},
     "output_type": "execute_result"
    }
   ],
   "source": [
    "get_affine_matrix(image_path)"
   ]
  },
  {
   "cell_type": "code",
   "execution_count": 6,
   "metadata": {},
   "outputs": [
    {
     "data": {
      "text/plain": [
       "array([[   0.41015601,    0.        ,    0.        ,  -94.08000183],\n",
       "       [   0.        ,    0.41015601,    0.        ,   75.19999695],\n",
       "       [   0.        ,    0.        ,    0.5       , -103.48999786],\n",
       "       [   0.        ,    0.        ,    0.        ,    1.        ]])"
      ]
     },
     "execution_count": 6,
     "metadata": {},
     "output_type": "execute_result"
    }
   ],
   "source": [
    "get_affine_matrix(label_path)"
   ]
  },
  {
   "cell_type": "markdown",
   "metadata": {},
   "source": [
    "### Applying MONAI transforms"
   ]
  },
  {
   "cell_type": "code",
   "execution_count": 7,
   "metadata": {},
   "outputs": [],
   "source": [
    "from monai.transforms import *"
   ]
  },
  {
   "cell_type": "code",
   "execution_count": 8,
   "metadata": {},
   "outputs": [
    {
     "name": "stdout",
     "output_type": "stream",
     "text": [
      "Before transformation: \n",
      " [[  0.410156   0.         0.       -94.08    ]\n",
      " [  0.         0.410156   0.        75.2     ]\n",
      " [  0.         0.         0.5      -40.49    ]\n",
      " [  0.         0.         0.         1.      ]]\n",
      "After transformation: \n",
      " [[1. 0. 0. 0.]\n",
      " [0. 1. 0. 0.]\n",
      " [0. 0. 1. 0.]\n",
      " [0. 0. 0. 1.]]\n"
     ]
    }
   ],
   "source": [
    "print(\"Before transformation: \\n\", get_affine_matrix(image_path))\n",
    "\n",
    "transforms = Compose([\n",
    "    LoadImage(image_only=True),\n",
    "    EnsureChannelFirst(),\n",
    "    RandFlip(spatial_axis=0, prob=1.0),\n",
    "    RandRotate90(spatial_axes=(1, 2), prob=1.0),\n",
    "    Rand3DElastic(prob=1.0, sigma_range=(5, 8), magnitude_range=(5, 8)),\n",
    "    ToTensor()\n",
    "])\n",
    "\n",
    "trans_image = transforms(image_path)\n",
    "print(\"After transformation: \\n\", get_affine_matrix(trans_image))"
   ]
  },
  {
   "cell_type": "markdown",
   "metadata": {},
   "source": [
    "### Setting the affine matrix to a custom matrix."
   ]
  },
  {
   "cell_type": "code",
   "execution_count": 13,
   "metadata": {},
   "outputs": [
    {
     "name": "stdout",
     "output_type": "stream",
     "text": [
      "Before:\n",
      " [[   0.41015601    0.            0.          -94.08000183]\n",
      " [   0.            0.41015601    0.           75.19999695]\n",
      " [   0.            0.            0.5        -103.48999786]\n",
      " [   0.            0.            0.            1.        ]]\n"
     ]
    },
    {
     "name": "stderr",
     "output_type": "stream",
     "text": [
      "WARNING: In /tmp/SimpleITK-build/ITK/Modules/IO/NIFTI/src/itkNiftiImageIO.cxx, line 2303\n",
      "NiftiImageIO (0x5588e0eaca80): Non-orthogonal direction matrix coerced to orthogonal\n",
      "\n"
     ]
    },
    {
     "name": "stdout",
     "output_type": "stream",
     "text": [
      "After:\n",
      " [[ 0.72420366 -0.2084803   0.15690188  0.25067374]\n",
      " [-0.19114262  0.28970161  0.44882673  0.51701653]\n",
      " [ 0.24296643  0.84932113 -0.11457961  0.43534073]\n",
      " [ 0.          0.          0.          1.        ]]\n"
     ]
    }
   ],
   "source": [
    "import os\n",
    "\n",
    "def set_affine_matrix(image_file, target_affine_matrix=None, out_file=None):\n",
    "    if not isinstance(image_file, str):\n",
    "        image = sitk.GetImageFromArray(image_file)\n",
    "    else:\n",
    "        image = sitk.ReadImage(image_file)\n",
    "    \n",
    "    # Ensure the output directory exists\n",
    "    if out_file is None:\n",
    "        print(\"Output file not specified. Will overwrite the input file\")\n",
    "        out_file = image_file\n",
    "    else:\n",
    "        base_name = os.path.basename(out_file)\n",
    "        out_file = os.path.join('/home/sharan/VR-Heart-Workspace/VR-Heart-PG/outputs/3D_Lab', base_name)\n",
    "        \n",
    "        # Ensure the directory exists\n",
    "        os.makedirs(os.path.dirname(out_file), exist_ok=True)\n",
    "\n",
    "    img_affine_matrix = get_affine_matrix(image_file)\n",
    "    print(\"Before:\\n\", img_affine_matrix)\n",
    "\n",
    "    if target_affine_matrix is None:\n",
    "        print(\"Affine matrix not specified. Will be standardized to identity matrix\")\n",
    "\n",
    "        def eye_affine(affine_matrix):\n",
    "            matrix = np.eye(4)\n",
    "            matrix[:3, 3] = affine_matrix[:3, 3]\n",
    "            return matrix\n",
    "        \n",
    "        new_affine = eye_affine(img_affine_matrix)\n",
    "    else:\n",
    "        new_affine = target_affine_matrix\n",
    "\n",
    "    image.SetOrigin(new_affine[:3, 3])\n",
    "    image.SetDirection(new_affine[:3, :3].flatten())\n",
    "    image.SetSpacing(new_affine[:3, :3].diagonal())\n",
    "    sitk.WriteImage(image, out_file)\n",
    "    \n",
    "    return new_affine\n",
    "\n",
    "\n",
    "img_file = label_path\n",
    "\n",
    "# For overwriting the current file. UNCOMMENT THIS ONLY IF ABSOLUTELY SURE.\n",
    "# orig_affine = get_affine_matrix(img_file)\n",
    "# set_affine_matrix(img_file, orig_affine)\n",
    "# set_affine_matrix(img_file)\n",
    "\n",
    "# For setting the affine matrix to identity matrix and save it to a new file\n",
    "out_file = f\"/home/sharan/VR-Heart-Workspace/VR-Heart-PG/outputs/3D_Lab/{patient}_labels.nii.gz\"\n",
    "# set_affine_matrix(img_file, out_file=out_file)\n",
    "\n",
    "# For setting the affine matrix to a custom matrix and save it to a new file\n",
    "custom_affine = np.random.rand(4, 4)\n",
    "set_affine_matrix(img_file, target_affine_matrix=custom_affine, out_file=out_file)\n",
    "\n",
    "print(\"After:\\n\", get_affine_matrix(out_file))"
   ]
  },
  {
   "cell_type": "code",
   "execution_count": 15,
   "metadata": {},
   "outputs": [
    {
     "name": "stdout",
     "output_type": "stream",
     "text": [
      "torch.Size([1, 512, 512, 317])\n",
      "torch.Size([1, 512, 512, 317])\n"
     ]
    },
    {
     "data": {
      "image/png": "[encoded data removed]",
      "text/plain": [
       "<Figure size 1500x1500 with 2 Axes>"
      ]
     },
     "metadata": {},
     "output_type": "display_data"
    }
   ],
   "source": [
    "transforms = Compose([LoadImage(image_only=True), EnsureChannelFirst(), ToTensor()])\n",
    "\n",
    "orig_img = transforms(img_file)\n",
    "orig_img_np = orig_img\n",
    "print(orig_img_np.shape)\n",
    "trans_img = transforms(out_file)\n",
    "trans_img_np = trans_img\n",
    "print(trans_img_np.shape)\n",
    "\n",
    "slice_index = 255\n",
    "fig, ax = plt.subplots(1, 2, figsize=(15, 15))\n",
    "\n",
    "if trans_img_np.ndim == 4:\n",
    "    ax[0].imshow(np.rot90(orig_img_np[0, slice_index, :, :]))\n",
    "    ax[1].imshow(np.rot90(trans_img_np[0, slice_index, :, :]))\n",
    "else:\n",
    "    ax[0].imshow(np.rot90(orig_img_np[slice_index, :, :]))\n",
    "    ax[1].imshow(np.rot90(trans_img_np[slice_index, :, :]))\n",
    "\n",
    "ax[0].axis('off')\n",
    "ax[0].set_title('Original Image')\n",
    "ax[1].axis('off')\n",
    "ax[1].set_title('Transformed Image')\n",
    "plt.show()"
   ]
  }
 ],
 "metadata": {
  "kernelspec": {
   "display_name": ".venv",
   "language": "python",
   "name": "python3"
  },
  "language_info": {
   "codemirror_mode": {
    "name": "ipython",
    "version": 3
   },
   "file_extension": ".py",
   "mimetype": "text/x-python",
   "name": "python",
   "nbconvert_exporter": "python",
   "pygments_lexer": "ipython3",
   "version": "3.10.12"
  }
 },
 "nbformat": 4,
 "nbformat_minor": 2
}
